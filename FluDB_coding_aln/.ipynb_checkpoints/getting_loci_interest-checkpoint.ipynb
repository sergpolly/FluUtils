{
 "cells": [
  {
   "cell_type": "markdown",
   "metadata": {},
   "source": [
    "We'll try to desribe our loci of interest procedure with details and illustrations here.\n",
    "\n",
    "Let's start with some modules:"
   ]
  },
  {
   "cell_type": "code",
   "execution_count": 1,
   "metadata": {
    "collapsed": true
   },
   "outputs": [],
   "source": [
    "%matplotlib inline\n",
    "import os\n",
    "import sys\n",
    "from Bio import SeqRecord\n",
    "from Bio import AlignIO\n",
    "import numpy as np\n",
    "import pandas as pd\n",
    "import matplotlib.pyplot as plt"
   ]
  },
  {
   "cell_type": "markdown",
   "metadata": {},
   "source": [
    "Then import the Codon Table for standard genetic code, with the slight modification - add STOP codon * as a fully-fledged member of the table:"
   ]
  },
  {
   "cell_type": "code",
   "execution_count": 17,
   "metadata": {
    "collapsed": true
   },
   "outputs": [],
   "source": [
    "from Bio.Data import CodonTable\n",
    "genetic_code = CodonTable.standard_dna_table.forward_table\n",
    "stop_codons = dict([ (codon,'*') for codon in CodonTable.standard_dna_table.stop_codons ])\n",
    "genetic_code.update(stop_codons)"
   ]
  },
  {
   "cell_type": "markdown",
   "metadata": {},
   "source": [
    "Kyte-Doolittle hydrophobicity scale is needed for us as well. We add the STOP codon there as well, and assign it artificially large KD value, simply to make all the mutations to/from the STOP codon distinguishable."
   ]
  },
  {
   "cell_type": "code",
   "execution_count": 18,
   "metadata": {
    "collapsed": true
   },
   "outputs": [],
   "source": [
    "from Bio.SeqUtils import ProtParamData\n",
    "KD = ProtParamData.kd\n",
    "KD['*'] = 25.0"
   ]
  },
  {
   "cell_type": "markdown",
   "metadata": {},
   "source": [
    "### Reference flu as object and pH1N1 alignment\n",
    "\n",
    "We would also need our custom Flu-module, located outside the current path to perform all flu-genome related manipulations."
   ]
  },
  {
   "cell_type": "code",
   "execution_count": 19,
   "metadata": {
    "collapsed": true
   },
   "outputs": [],
   "source": [
    "sys.path.append(\"../RNA_SNP_association\")\n",
    "import flu_module as flu"
   ]
  },
  {
   "cell_type": "markdown",
   "metadata": {},
   "source": [
    "Reference flu-genome sequence is a consensus of the pandemic H1N1: pH1N1. Let's load the reference with the description of ORF location."
   ]
  },
  {
   "cell_type": "code",
   "execution_count": 20,
   "metadata": {
    "collapsed": true
   },
   "outputs": [],
   "source": [
    "ref_fname = \"./pH1N1_coding_dat/pH1N1.fa\"\n",
    "orf_fname = \"./pH1N1_coding_dat/pH1N1_noPB1F.orf\"\n",
    "ph1n1 = flu.influenza(ref_fname, orf_fname)"
   ]
  },
  {
   "cell_type": "markdown",
   "metadata": {},
   "source": [
    "Our segment-wide alignments are stored in files with particular names:"
   ]
  },
  {
   "cell_type": "code",
   "execution_count": 21,
   "metadata": {
    "collapsed": true
   },
   "outputs": [],
   "source": [
    "aligned_seg_fname = lambda number: \"seg%d.afa\"%number"
   ]
  },
  {
   "cell_type": "markdown",
   "metadata": {},
   "source": [
    "Let's load all of the alignments using these file names and store them as a dictionary:"
   ]
  },
  {
   "cell_type": "code",
   "execution_count": 22,
   "metadata": {
    "collapsed": true
   },
   "outputs": [],
   "source": [
    "segment_aln = {}\n",
    "for seg_idx in range(1, ph1n1.segnum+1):\n",
    "    fname = aligned_seg_fname(seg_idx)\n",
    "    segment_aln['seg%d'%seg_idx] = AlignIO.read(fname,'fasta')"
   ]
  },
  {
   "cell_type": "markdown",
   "metadata": {},
   "source": [
    "Let's output some characteristics of the alignment:"
   ]
  },
  {
   "cell_type": "code",
   "execution_count": 23,
   "metadata": {
    "collapsed": false
   },
   "outputs": [
    {
     "name": "stdout",
     "output_type": "stream",
     "text": [
      "seg1 of len 2280 has 2971 sequences aligned\n",
      "seg2 of len 2274 has 2877 sequences aligned\n",
      "seg3 of len 2151 has 2984 sequences aligned\n",
      "seg4 of len 1701 has 3048 sequences aligned\n",
      "seg5 of len 1497 has 2281 sequences aligned\n",
      "seg6 of len 1410 has 2552 sequences aligned\n",
      "seg7 of len 982 has 1537 sequences aligned\n",
      "seg8 of len 838 has 2010 sequences aligned\n"
     ]
    }
   ],
   "source": [
    "for seg in sorted(segment_aln):\n",
    "    print \"%s of len %d has %d sequences aligned\"%(seg,segment_aln[seg].get_alignment_length(),len(segment_aln[seg]))"
   ]
  },
  {
   "cell_type": "markdown",
   "metadata": {},
   "source": [
    "#### in ORF or not in ORF? where exactly?\n",
    "Next we define a funtion that would provide all ORFs associated with a given genome locus, along with the description of the hosting codon, and a codon-shift of a given locus (first, second, third position)."
   ]
  },
  {
   "cell_type": "code",
   "execution_count": 24,
   "metadata": {
    "collapsed": true
   },
   "outputs": [],
   "source": [
    "def get_loci_orf_assoc(orf,loci):\n",
    "    \"\"\"checks if a given position is in any of the ORFs. Returns\n",
    "    a list of the hosting ORFs with corresponding coords. of codons.\"\"\"\n",
    "    which_orf = []\n",
    "    for orf_id in orf:\n",
    "        orf_bounds = orf[orf_id]\n",
    "        orf_positions = sum([range(start,stop+1) for start,stop in orf_bounds], [])\n",
    "        # pos residence in ORF or not in ORF?\n",
    "        if loci in orf_positions:\n",
    "            # relative loci, simply an index in the list of orf_positions ...\n",
    "            relative_pos = orf_positions.index(loci)\n",
    "            # the index of the codon it belongs to ...\n",
    "            codon_idx = relative_pos//3\n",
    "            # relative codon coordinates (indexes within CDS):\n",
    "            relative_codon_coord = [codon_idx*3+i for i in range(3)]\n",
    "            # loci is 1st,2nd or 3rd position in the codon?\n",
    "            codon_shift = relative_pos - relative_codon_coord[0]\n",
    "            # absolute codon coordinates (indexes in the genome):\n",
    "            codon_coord = [orf_positions[_] for _ in relative_codon_coord]\n",
    "            which_orf.append( (orf_id, (codon_idx,codon_shift,codon_coord) ) )\n",
    "    return dict(which_orf)"
   ]
  },
  {
   "cell_type": "markdown",
   "metadata": {},
   "source": [
    "Then we perform the analysis, exploring observed mutations and their basic features:"
   ]
  },
  {
   "cell_type": "code",
   "execution_count": 25,
   "metadata": {
    "collapsed": false
   },
   "outputs": [],
   "source": [
    "# lists to store some info ...\n",
    "codon_position_mutated = []\n",
    "codon_position_mutated_weight = []\n",
    "dKD = []\n",
    "dKD_weight = []\n",
    "#\n",
    "segment_var_info = {}\n",
    "#\n",
    "# analysis for each segment ...\n",
    "for seg in sorted(segment_aln):\n",
    "    # turn aln to an array and describe aln ...\n",
    "    aln = np.array([list(rec) for rec in segment_aln[seg]], np.character)\n",
    "    aln = pd.DataFrame(aln)\n",
    "    aln = aln.where(aln!='-',None) # gaps to Nones\n",
    "    descr = aln.describe().transpose() #built-in\n",
    "    descr['freq_ratio'] = descr['freq']/descr['count'] # freq_ratio ignores gaps ...\n",
    "    descr['gaps'] = aln.isnull().sum()\n",
    "    descr['variation'] = descr['freq']<descr['count'] # variable positions ...\n",
    "    # ORF of this segment ...\n",
    "    seg_orf = ph1n1.orf[seg+'_pH1N1']\n",
    "    seg_seq = ph1n1.genome[seg+'_pH1N1']\n",
    "    # we would like to store some averaged statisticsfor each var position:\n",
    "    codon_position_avg = []\n",
    "    codon_position_mutated_weight = []\n",
    "    dKD = []\n",
    "    dKD_weight = []\n",
    "    # go over all variable positions ...\n",
    "    for pos in descr[descr['variation']].index:\n",
    "        # unpack codon information ...\n",
    "        prod_codon = get_loci_orf_assoc(seg_orf,pos)\n",
    "        for product in prod_codon:\n",
    "            codon_idx, codon_shift, codon_coords = prod_codon[product]\n",
    "            # the consensus codon, AA and KD ...\n",
    "            codon_itself = ''.join(seg_seq[i] for i in codon_coords)\n",
    "            aa_itself = genetic_code[codon_itself]\n",
    "            KD_itself = KD[aa_itself]\n",
    "            # SNPs at this position ...\n",
    "            nts_present = aln.loc[:,pos].value_counts().to_dict()\n",
    "            # CODON SHIFT STATISTICS GATHERING ...\n",
    "            codon_position_mutated.append(codon_shift)\n",
    "            # variation frequency, non-consensus % aka mutation 'weight'\n",
    "            weight = 1.0 - descr['freq_ratio'][pos]\n",
    "            codon_position_mutated_weight.append(weight)\n",
    "            # hence, possible codons are:\n",
    "            possible_codons = []\n",
    "            for snp in nts_present:\n",
    "                mut_codon = list(codon_itself)\n",
    "                mut_codon[codon_shift] = snp\n",
    "                possible_codons.append(mut_codon)\n",
    "                # STATISTICS GATHERING ...\n",
    "                the_alt_codon = ''.join(mut_codon)\n",
    "                if the_alt_codon != codon_itself:\n",
    "                    the_alt_aa = genetic_code[the_alt_codon]\n",
    "                    the_alt_KD = KD[the_alt_aa]\n",
    "                    weight     = nts_present[snp]*1.0/sum(nts_present.values())\n",
    "                    #################################\n",
    "                    dKD.append(the_alt_KD - KD_itself)\n",
    "                    dKD_weight.append(weight)\n",
    "            # # amino acids ...\n",
    "            # print \"Product %s, position %d in protein (codon %s, aa %s)\"%(product, codon_shift+1, codon_itself, genetic_code[codon_itself])\n",
    "            # other_possible_codons = [''.join(codon) for codon in possible_codons if ''.join(codon)!=codon_itself]\n",
    "            # print \"outcome AAs are: %s\"%str([genetic_code[ccc] for ccc in other_possible_codons]).strip('[]').replace('\\'','')\n",
    "            # # print str([genetic_code[ccc] for ccc in other_possible_codons]).strip('[]').replace('\\'','')\n",
    "            # print \"dKD for AA subs: %s\"%str([ KD[genetic_code[ccc]]-KD[genetic_code[codon_itself]] for ccc in other_possible_codons]).strip('[]')"
   ]
  },
  {
   "cell_type": "code",
   "execution_count": null,
   "metadata": {
    "collapsed": false
   },
   "outputs": [],
   "source": [
    "print descr.head(15)\n",
    "print seg\n",
    "f,ax = plt.subplots(1,1,figsize=(20,4))\n",
    "ax.plot(descr[descr['variation']].index,descr[descr['variation']]['freq_ratio'],'ro')\n",
    "# ax = plt.gca()\n",
    "# ax.set_yscale('log')\n",
    "# ax.set_ylim(0.99,1)\n",
    "plt.show()"
   ]
  },
  {
   "cell_type": "code",
   "execution_count": 27,
   "metadata": {
    "collapsed": false
   },
   "outputs": [
    {
     "data": {
      "image/png": "[encoded data removed]",
      "text/plain": [
       "<matplotlib.figure.Figure at 0x7f139f6a3710>"
      ]
     },
     "metadata": {},
     "output_type": "display_data"
    },
    {
     "data": {
      "image/png": "[encoded data removed]",
      "text/plain": [
       "<matplotlib.figure.Figure at 0x7f139c860ad0>"
      ]
     },
     "metadata": {},
     "output_type": "display_data"
    }
   ],
   "source": [
    "plt.hist(codon_position_mutated,bins=3)\n",
    "ax = plt.gca()\n",
    "ax.set_xlabel(\"codon position: 1,2,3\")\n",
    "plt.show()\n",
    "plt.hist(codon_position_mutated,bins=3,weights=codon_position_mutated_weight)\n",
    "ax = plt.gca()\n",
    "ax.set_xlabel(\"codon position: 1,2,3\")\n",
    "plt.show()"
   ]
  },
  {
   "cell_type": "code",
   "execution_count": null,
   "metadata": {
    "collapsed": true
   },
   "outputs": [],
   "source": []
  }
 ],
 "metadata": {
  "kernelspec": {
   "display_name": "Python 2",
   "language": "python",
   "name": "python2"
  },
  "language_info": {
   "codemirror_mode": {
    "name": "ipython",
    "version": 2
   },
   "file_extension": ".py",
   "mimetype": "text/x-python",
   "name": "python",
   "nbconvert_exporter": "python",
   "pygments_lexer": "ipython2",
   "version": "2.7.6"
  }
 },
 "nbformat": 4,
 "nbformat_minor": 0
}
